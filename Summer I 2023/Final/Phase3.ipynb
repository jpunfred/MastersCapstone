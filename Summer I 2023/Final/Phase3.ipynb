{
 "cells": [
  {
   "cell_type": "code",
   "execution_count": 1,
   "id": "dbae7936",
   "metadata": {},
   "outputs": [],
   "source": [
    "import requests\n",
    "import pandas as pd\n"
   ]
  },
  {
   "cell_type": "code",
   "execution_count": 2,
   "id": "adc0935b",
   "metadata": {},
   "outputs": [],
   "source": [
    "api_url = \"http://api.census.gov/data/timeseries/eits/ressales.json\"\n",
    "response = requests.get(api_url)\n"
   ]
  },
  {
   "cell_type": "code",
   "execution_count": 3,
   "id": "1bae128b",
   "metadata": {},
   "outputs": [],
   "source": [
    "if response.status_code == 200:\n",
    "    json_data = response.json()\n",
    "else:\n",
    "    print(\"Error: Failed to fetch data from the API.\")\n"
   ]
  },
  {
   "cell_type": "code",
   "execution_count": 4,
   "id": "283193da",
   "metadata": {},
   "outputs": [
    {
     "name": "stdout",
     "output_type": "stream",
     "text": [
      "Dataset Title: Time Series Economic Indicators Time Series -: New Home Sales\n"
     ]
    }
   ],
   "source": [
    "title = json_data['dataset'][0]['title']\n",
    "print(\"Dataset Title:\", title)\n"
   ]
  },
  {
   "cell_type": "code",
   "execution_count": null,
   "id": "8cfad1fe",
   "metadata": {},
   "outputs": [],
   "source": []
  }
 ],
 "metadata": {
  "kernelspec": {
   "display_name": "Python 3 (ipykernel)",
   "language": "python",
   "name": "python3"
  },
  "language_info": {
   "codemirror_mode": {
    "name": "ipython",
    "version": 3
   },
   "file_extension": ".py",
   "mimetype": "text/x-python",
   "name": "python",
   "nbconvert_exporter": "python",
   "pygments_lexer": "ipython3",
   "version": "3.10.9"
  }
 },
 "nbformat": 4,
 "nbformat_minor": 5
}
