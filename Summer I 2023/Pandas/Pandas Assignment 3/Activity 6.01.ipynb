{
 "cells": [
  {
   "cell_type": "code",
   "execution_count": 1,
   "id": "ff5a36ae",
   "metadata": {},
   "outputs": [],
   "source": [
    "import pandas as pd"
   ]
  },
  {
   "cell_type": "code",
   "execution_count": 2,
   "id": "9404bb4c",
   "metadata": {},
   "outputs": [
    {
     "name": "stderr",
     "output_type": "stream",
     "text": [
      "C:\\Users\\Jordan\\AppData\\Local\\Temp\\ipykernel_20040\\2536008820.py:2: FutureWarning: The squeeze argument has been deprecated and will be removed in a future version. Append .squeeze(\"columns\") to the call to squeeze.\n",
      "\n",
      "\n",
      "  pd.read_csv(r'C:\\Users\\Jordan\\Downloads\\Pandas Assignment 3\\US_Census_SUB-IP-EST2019-ANNRNK_top_20_2010.csv',\n"
     ]
    },
    {
     "data": {
      "text/plain": [
       "City\n",
       "New York                8190209\n",
       "Los Angeles             3795512\n",
       "Chicago                 2697477\n",
       "Houston                 2100280\n",
       "Phoenix                 1449038\n",
       "Philadelphia            1528283\n",
       "San Antonio             1332299\n",
       "San Diego               1305906\n",
       "Dallas                  1200350\n",
       "San Jose                 954940\n",
       "Austin                   806164\n",
       "Jacksonville             823114\n",
       "Fort Worth               748441\n",
       "Columbus                 790943\n",
       "Charlotte                738444\n",
       "San Francisco            805505\n",
       "Indianapolis             821579\n",
       "Seattle                  610630\n",
       "Denver                   603359\n",
       "District of Columbia     605226\n",
       "Name: 2010, dtype: int64"
      ]
     },
     "execution_count": 2,
     "metadata": {},
     "output_type": "execute_result"
    }
   ],
   "source": [
    "populations_2010 = \\\n",
    "pd.read_csv(r'C:\\Users\\Jordan\\Downloads\\Pandas Assignment 3\\US_Census_SUB-IP-EST2019-ANNRNK_top_20_2010.csv',\n",
    "            index_col = [0],\n",
    "            squeeze = True)\n",
    "populations_2010"
   ]
  },
  {
   "cell_type": "code",
   "execution_count": 3,
   "id": "439f01ac",
   "metadata": {},
   "outputs": [],
   "source": [
    "top_3_2010 = sum(populations_2010[['New York', 'Los Angeles', 'Chicago']])"
   ]
  },
  {
   "cell_type": "code",
   "execution_count": 4,
   "id": "45cd8df0",
   "metadata": {},
   "outputs": [
    {
     "name": "stderr",
     "output_type": "stream",
     "text": [
      "C:\\Users\\Jordan\\AppData\\Local\\Temp\\ipykernel_20040\\2583513523.py:2: FutureWarning: The squeeze argument has been deprecated and will be removed in a future version. Append .squeeze(\"columns\") to the call to squeeze.\n",
      "\n",
      "\n",
      "  pd.read_csv(r'C:\\Users\\Jordan\\Downloads\\Pandas Assignment 3\\US_Census_SUB-IP-EST2019-ANNRNK_top_20_2019.csv',\n"
     ]
    },
    {
     "data": {
      "text/plain": [
       "City\n",
       "New York                8336817\n",
       "Los Angeles             3979576\n",
       "Chicago                 2693976\n",
       "Houston                 2320268\n",
       "Phoenix                 1680992\n",
       "Philadelphia            1584064\n",
       "San Antonio             1547253\n",
       "San Diego               1423851\n",
       "Dallas                  1343573\n",
       "San Jose                1021795\n",
       "Austin                   978908\n",
       "Jacksonville             911507\n",
       "Fort Worth               909585\n",
       "Columbus                 898553\n",
       "Charlotte                885708\n",
       "San Francisco            881549\n",
       "Indianapolis             876384\n",
       "Seattle                  753675\n",
       "Denver                   727211\n",
       "District of Columbia     705749\n",
       "Name: 2019, dtype: int64"
      ]
     },
     "execution_count": 4,
     "metadata": {},
     "output_type": "execute_result"
    }
   ],
   "source": [
    "populations_2019 = \\\n",
    "pd.read_csv(r'C:\\Users\\Jordan\\Downloads\\Pandas Assignment 3\\US_Census_SUB-IP-EST2019-ANNRNK_top_20_2019.csv',\n",
    "            index_col = [0],\n",
    "            squeeze = True)\n",
    "populations_2019"
   ]
  },
  {
   "cell_type": "code",
   "execution_count": 5,
   "id": "6a0a661e",
   "metadata": {},
   "outputs": [],
   "source": [
    "top_3_2019 = sum(populations_2019[['New York', 'Los Angeles', 'Chicago']])"
   ]
  },
  {
   "cell_type": "code",
   "execution_count": 6,
   "id": "4a908744",
   "metadata": {},
   "outputs": [
    {
     "name": "stdout",
     "output_type": "stream",
     "text": [
      "top 3 changed 2.2 %\n",
      " vs. all changed 8.0 %\n"
     ]
    }
   ],
   "source": [
    "top_3_change = 100 * (top_3_2019 - top_3_2010) / top_3_2010\n",
    "all_change = 100 * sum(populations_2019 - populations_2010) / sum(populations_2010)\n",
    "\n",
    "print('top 3 changed', str(round(top_3_change, 1)), '%\\n',\n",
    "      'vs. all changed', str(round(all_change, 1)), '%')"
   ]
  },
  {
   "cell_type": "code",
   "execution_count": null,
   "id": "eb230d01",
   "metadata": {},
   "outputs": [],
   "source": []
  }
 ],
 "metadata": {
  "kernelspec": {
   "display_name": "Python 3 (ipykernel)",
   "language": "python",
   "name": "python3"
  },
  "language_info": {
   "codemirror_mode": {
    "name": "ipython",
    "version": 3
   },
   "file_extension": ".py",
   "mimetype": "text/x-python",
   "name": "python",
   "nbconvert_exporter": "python",
   "pygments_lexer": "ipython3",
   "version": "3.10.9"
  }
 },
 "nbformat": 4,
 "nbformat_minor": 5
}
