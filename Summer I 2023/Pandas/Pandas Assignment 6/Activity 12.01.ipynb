{
 "cells": [
  {
   "cell_type": "code",
   "execution_count": 1,
   "id": "4212c8c8",
   "metadata": {},
   "outputs": [],
   "source": [
    "import pandas as pd\n",
    "import numpy as np"
   ]
  },
  {
   "cell_type": "code",
   "execution_count": 13,
   "id": "6e7c1d87",
   "metadata": {},
   "outputs": [],
   "source": [
    "data_fn = r'C:\\Users\\Jordan\\Downloads\\Pandas Assignment 6\\household_power_consumption.csv'\n",
    "home_elec = pd.read_csv(data_fn, sep=';', low_memory=False)\n"
   ]
  },
  {
   "cell_type": "code",
   "execution_count": 14,
   "id": "f68b0c76",
   "metadata": {},
   "outputs": [
    {
     "data": {
      "text/html": [
       "<div>\n",
       "<style scoped>\n",
       "    .dataframe tbody tr th:only-of-type {\n",
       "        vertical-align: middle;\n",
       "    }\n",
       "\n",
       "    .dataframe tbody tr th {\n",
       "        vertical-align: top;\n",
       "    }\n",
       "\n",
       "    .dataframe thead th {\n",
       "        text-align: right;\n",
       "    }\n",
       "</style>\n",
       "<table border=\"1\" class=\"dataframe\">\n",
       "  <thead>\n",
       "    <tr style=\"text-align: right;\">\n",
       "      <th></th>\n",
       "      <th>Date</th>\n",
       "      <th>Time</th>\n",
       "      <th>Global_active_power</th>\n",
       "      <th>Global_reactive_power</th>\n",
       "      <th>Voltage</th>\n",
       "      <th>Global_intensity</th>\n",
       "      <th>Sub_metering_1</th>\n",
       "      <th>Sub_metering_2</th>\n",
       "      <th>Sub_metering_3</th>\n",
       "    </tr>\n",
       "  </thead>\n",
       "  <tbody>\n",
       "    <tr>\n",
       "      <th>0</th>\n",
       "      <td>1/8/2008</td>\n",
       "      <td>00:00:00</td>\n",
       "      <td>0.500</td>\n",
       "      <td>0.226</td>\n",
       "      <td>239.750</td>\n",
       "      <td>2.400</td>\n",
       "      <td>0.000</td>\n",
       "      <td>0.000</td>\n",
       "      <td>1.0</td>\n",
       "    </tr>\n",
       "    <tr>\n",
       "      <th>1</th>\n",
       "      <td>1/8/2008</td>\n",
       "      <td>00:01:00</td>\n",
       "      <td>0.482</td>\n",
       "      <td>0.224</td>\n",
       "      <td>240.340</td>\n",
       "      <td>2.200</td>\n",
       "      <td>0.000</td>\n",
       "      <td>0.000</td>\n",
       "      <td>1.0</td>\n",
       "    </tr>\n",
       "    <tr>\n",
       "      <th>2</th>\n",
       "      <td>1/8/2008</td>\n",
       "      <td>00:02:00</td>\n",
       "      <td>0.502</td>\n",
       "      <td>0.234</td>\n",
       "      <td>241.680</td>\n",
       "      <td>2.400</td>\n",
       "      <td>0.000</td>\n",
       "      <td>0.000</td>\n",
       "      <td>0.0</td>\n",
       "    </tr>\n",
       "    <tr>\n",
       "      <th>3</th>\n",
       "      <td>1/8/2008</td>\n",
       "      <td>00:03:00</td>\n",
       "      <td>0.556</td>\n",
       "      <td>0.228</td>\n",
       "      <td>241.750</td>\n",
       "      <td>2.600</td>\n",
       "      <td>0.000</td>\n",
       "      <td>0.000</td>\n",
       "      <td>1.0</td>\n",
       "    </tr>\n",
       "    <tr>\n",
       "      <th>4</th>\n",
       "      <td>1/8/2008</td>\n",
       "      <td>00:04:00</td>\n",
       "      <td>0.854</td>\n",
       "      <td>0.342</td>\n",
       "      <td>241.550</td>\n",
       "      <td>4.000</td>\n",
       "      <td>0.000</td>\n",
       "      <td>1.000</td>\n",
       "      <td>7.0</td>\n",
       "    </tr>\n",
       "  </tbody>\n",
       "</table>\n",
       "</div>"
      ],
      "text/plain": [
       "       Date      Time Global_active_power Global_reactive_power  Voltage  \\\n",
       "0  1/8/2008  00:00:00               0.500                 0.226  239.750   \n",
       "1  1/8/2008  00:01:00               0.482                 0.224  240.340   \n",
       "2  1/8/2008  00:02:00               0.502                 0.234  241.680   \n",
       "3  1/8/2008  00:03:00               0.556                 0.228  241.750   \n",
       "4  1/8/2008  00:04:00               0.854                 0.342  241.550   \n",
       "\n",
       "  Global_intensity Sub_metering_1 Sub_metering_2  Sub_metering_3  \n",
       "0            2.400          0.000          0.000             1.0  \n",
       "1            2.200          0.000          0.000             1.0  \n",
       "2            2.400          0.000          0.000             0.0  \n",
       "3            2.600          0.000          0.000             1.0  \n",
       "4            4.000          0.000          1.000             7.0  "
      ]
     },
     "execution_count": 14,
     "metadata": {},
     "output_type": "execute_result"
    }
   ],
   "source": [
    "home_elec.head()"
   ]
  },
  {
   "cell_type": "code",
   "execution_count": 15,
   "id": "68f03faf",
   "metadata": {},
   "outputs": [
    {
     "data": {
      "text/plain": [
       "Date                      object\n",
       "Time                      object\n",
       "Global_active_power       object\n",
       "Global_reactive_power     object\n",
       "Voltage                   object\n",
       "Global_intensity          object\n",
       "Sub_metering_1            object\n",
       "Sub_metering_2            object\n",
       "Sub_metering_3           float64\n",
       "dtype: object"
      ]
     },
     "execution_count": 15,
     "metadata": {},
     "output_type": "execute_result"
    }
   ],
   "source": [
    "home_elec.dtypes"
   ]
  },
  {
   "cell_type": "code",
   "execution_count": 16,
   "id": "5b1ffa75",
   "metadata": {},
   "outputs": [
    {
     "name": "stdout",
     "output_type": "stream",
     "text": [
      "information for column Date:\n",
      " count      1049760\n",
      "unique         729\n",
      "top       1/8/2008\n",
      "freq          1440\n",
      "Name: Date, dtype: object\n",
      "information for column Time:\n",
      " count      1049760\n",
      "unique        1440\n",
      "top       00:00:00\n",
      "freq           729\n",
      "Name: Time, dtype: object\n",
      "information for column Global_active_power:\n",
      " count     1049760\n",
      "unique       3852\n",
      "top             ?\n",
      "freq         9570\n",
      "Name: Global_active_power, dtype: object\n",
      "information for column Global_reactive_power:\n",
      " count     1049760\n",
      "unique        510\n",
      "top         0.000\n",
      "freq       230359\n",
      "Name: Global_reactive_power, dtype: object\n",
      "information for column Voltage:\n",
      " count     1049760\n",
      "unique       2738\n",
      "top             ?\n",
      "freq         9570\n",
      "Name: Voltage, dtype: object\n",
      "information for column Global_intensity:\n",
      " count     1049760\n",
      "unique        207\n",
      "top         1.400\n",
      "freq        81879\n",
      "Name: Global_intensity, dtype: object\n",
      "information for column Sub_metering_1:\n",
      " count     1049760\n",
      "unique         89\n",
      "top         0.000\n",
      "freq       955562\n",
      "Name: Sub_metering_1, dtype: object\n",
      "information for column Sub_metering_2:\n",
      " count     1049760\n",
      "unique         82\n",
      "top         0.000\n",
      "freq       738513\n",
      "Name: Sub_metering_2, dtype: object\n",
      "information for column Sub_metering_3:\n",
      " count    1.040190e+06\n",
      "mean     6.838058e+00\n",
      "std      8.569015e+00\n",
      "min      0.000000e+00\n",
      "25%      0.000000e+00\n",
      "50%      1.000000e+00\n",
      "75%      1.800000e+01\n",
      "max      3.100000e+01\n",
      "Name: Sub_metering_3, dtype: float64\n"
     ]
    }
   ],
   "source": [
    "for col in home_elec.columns:\n",
    "    print('information for column ' + \n",
    "          col + \n",
    "          ':\\n', \n",
    "          home_elec[col].describe())"
   ]
  },
  {
   "cell_type": "code",
   "execution_count": 17,
   "id": "7295a5db",
   "metadata": {},
   "outputs": [],
   "source": [
    "home_elec.replace('?', np.nan, inplace = True)\n",
    "home_elec.interpolate(inplace = True)"
   ]
  },
  {
   "cell_type": "code",
   "execution_count": 18,
   "id": "c9535abe",
   "metadata": {},
   "outputs": [],
   "source": [
    "for col in home_elec.columns[2:]:\n",
    "    home_elec[col] = home_elec[col].astype(float)"
   ]
  },
  {
   "cell_type": "code",
   "execution_count": 19,
   "id": "62cd6d68",
   "metadata": {},
   "outputs": [
    {
     "data": {
      "text/plain": [
       "<Axes: xlabel='Date'>"
      ]
     },
     "execution_count": 19,
     "metadata": {},
     "output_type": "execute_result"
    },
    {
     "data": {
      "image/png": "[encoded data removed]",
      "text/plain": [
       "<Figure size 640x480 with 1 Axes>"
      ]
     },
     "metadata": {},
     "output_type": "display_data"
    }
   ],
   "source": [
    "(home_elec[['Date', \n",
    "            'Sub_metering_1']].\n",
    "             plot(x = 'Date', \n",
    "                  y = 'Sub_metering_1'))"
   ]
  },
  {
   "cell_type": "code",
   "execution_count": 25,
   "id": "d995baee",
   "metadata": {},
   "outputs": [
    {
     "data": {
      "text/html": [
       "<div>\n",
       "<style scoped>\n",
       "    .dataframe tbody tr th:only-of-type {\n",
       "        vertical-align: middle;\n",
       "    }\n",
       "\n",
       "    .dataframe tbody tr th {\n",
       "        vertical-align: top;\n",
       "    }\n",
       "\n",
       "    .dataframe thead th {\n",
       "        text-align: right;\n",
       "    }\n",
       "</style>\n",
       "<table border=\"1\" class=\"dataframe\">\n",
       "  <thead>\n",
       "    <tr style=\"text-align: right;\">\n",
       "      <th></th>\n",
       "      <th>Date</th>\n",
       "      <th>Time</th>\n",
       "      <th>Kitchen_power_use</th>\n",
       "    </tr>\n",
       "  </thead>\n",
       "  <tbody>\n",
       "    <tr>\n",
       "      <th>220320</th>\n",
       "      <td>1/1/2009</td>\n",
       "      <td>00:00:00</td>\n",
       "      <td>0.0</td>\n",
       "    </tr>\n",
       "    <tr>\n",
       "      <th>220321</th>\n",
       "      <td>1/1/2009</td>\n",
       "      <td>00:01:00</td>\n",
       "      <td>0.0</td>\n",
       "    </tr>\n",
       "    <tr>\n",
       "      <th>220322</th>\n",
       "      <td>1/1/2009</td>\n",
       "      <td>00:02:00</td>\n",
       "      <td>0.0</td>\n",
       "    </tr>\n",
       "    <tr>\n",
       "      <th>220323</th>\n",
       "      <td>1/1/2009</td>\n",
       "      <td>00:03:00</td>\n",
       "      <td>0.0</td>\n",
       "    </tr>\n",
       "    <tr>\n",
       "      <th>220324</th>\n",
       "      <td>1/1/2009</td>\n",
       "      <td>00:04:00</td>\n",
       "      <td>0.0</td>\n",
       "    </tr>\n",
       "  </tbody>\n",
       "</table>\n",
       "</div>"
      ],
      "text/plain": [
       "            Date      Time  Kitchen_power_use\n",
       "220320  1/1/2009  00:00:00                0.0\n",
       "220321  1/1/2009  00:01:00                0.0\n",
       "220322  1/1/2009  00:02:00                0.0\n",
       "220323  1/1/2009  00:03:00                0.0\n",
       "220324  1/1/2009  00:04:00                0.0"
      ]
     },
     "execution_count": 25,
     "metadata": {},
     "output_type": "execute_result"
    }
   ],
   "source": [
    "kitchen_elec = home_elec[['Date', 'Time', 'Sub_metering_1']]\n",
    "kitchen_elec = kitchen_elec.loc[kitchen_elec['Date'].str.contains('2009'), :]\n",
    "kitchen_elec.columns = ['Date', 'Time', 'Kitchen_power_use']\n",
    "kitchen_elec.head()"
   ]
  },
  {
   "cell_type": "code",
   "execution_count": 26,
   "id": "52f976e3",
   "metadata": {},
   "outputs": [
    {
     "data": {
      "text/html": [
       "<div>\n",
       "<style scoped>\n",
       "    .dataframe tbody tr th:only-of-type {\n",
       "        vertical-align: middle;\n",
       "    }\n",
       "\n",
       "    .dataframe tbody tr th {\n",
       "        vertical-align: top;\n",
       "    }\n",
       "\n",
       "    .dataframe thead th {\n",
       "        text-align: right;\n",
       "    }\n",
       "</style>\n",
       "<table border=\"1\" class=\"dataframe\">\n",
       "  <thead>\n",
       "    <tr style=\"text-align: right;\">\n",
       "      <th></th>\n",
       "      <th>Date</th>\n",
       "      <th>Time</th>\n",
       "      <th>Kitchen_power_use</th>\n",
       "      <th>timestamp</th>\n",
       "    </tr>\n",
       "  </thead>\n",
       "  <tbody>\n",
       "    <tr>\n",
       "      <th>220320</th>\n",
       "      <td>1/1/2009</td>\n",
       "      <td>00:00:00</td>\n",
       "      <td>0.0</td>\n",
       "      <td>2009-01-01 00:00:00</td>\n",
       "    </tr>\n",
       "    <tr>\n",
       "      <th>220321</th>\n",
       "      <td>1/1/2009</td>\n",
       "      <td>00:01:00</td>\n",
       "      <td>0.0</td>\n",
       "      <td>2009-01-01 00:01:00</td>\n",
       "    </tr>\n",
       "    <tr>\n",
       "      <th>220322</th>\n",
       "      <td>1/1/2009</td>\n",
       "      <td>00:02:00</td>\n",
       "      <td>0.0</td>\n",
       "      <td>2009-01-01 00:02:00</td>\n",
       "    </tr>\n",
       "    <tr>\n",
       "      <th>220323</th>\n",
       "      <td>1/1/2009</td>\n",
       "      <td>00:03:00</td>\n",
       "      <td>0.0</td>\n",
       "      <td>2009-01-01 00:03:00</td>\n",
       "    </tr>\n",
       "    <tr>\n",
       "      <th>220324</th>\n",
       "      <td>1/1/2009</td>\n",
       "      <td>00:04:00</td>\n",
       "      <td>0.0</td>\n",
       "      <td>2009-01-01 00:04:00</td>\n",
       "    </tr>\n",
       "  </tbody>\n",
       "</table>\n",
       "</div>"
      ],
      "text/plain": [
       "            Date      Time  Kitchen_power_use           timestamp\n",
       "220320  1/1/2009  00:00:00                0.0 2009-01-01 00:00:00\n",
       "220321  1/1/2009  00:01:00                0.0 2009-01-01 00:01:00\n",
       "220322  1/1/2009  00:02:00                0.0 2009-01-01 00:02:00\n",
       "220323  1/1/2009  00:03:00                0.0 2009-01-01 00:03:00\n",
       "220324  1/1/2009  00:04:00                0.0 2009-01-01 00:04:00"
      ]
     },
     "execution_count": 26,
     "metadata": {},
     "output_type": "execute_result"
    }
   ],
   "source": [
    "kitchen_elec.loc[:, 'timestamp'] = \\\n",
    "    pd.to_datetime(kitchen_elec.loc[:, 'Date'] + ' '\n",
    "                   + kitchen_elec.loc[:, 'Time'],\n",
    "                  dayfirst = True)\n",
    "kitchen_elec.sort_values('timestamp', \n",
    "                         inplace = True)\n",
    "kitchen_elec.head()"
   ]
  },
  {
   "cell_type": "code",
   "execution_count": 27,
   "id": "19d7c736",
   "metadata": {},
   "outputs": [
    {
     "data": {
      "text/html": [
       "<div>\n",
       "<style scoped>\n",
       "    .dataframe tbody tr th:only-of-type {\n",
       "        vertical-align: middle;\n",
       "    }\n",
       "\n",
       "    .dataframe tbody tr th {\n",
       "        vertical-align: top;\n",
       "    }\n",
       "\n",
       "    .dataframe thead th {\n",
       "        text-align: right;\n",
       "    }\n",
       "</style>\n",
       "<table border=\"1\" class=\"dataframe\">\n",
       "  <thead>\n",
       "    <tr style=\"text-align: right;\">\n",
       "      <th></th>\n",
       "      <th>Date</th>\n",
       "      <th>Time</th>\n",
       "      <th>Kitchen_power_use</th>\n",
       "      <th>timestamp</th>\n",
       "      <th>hour</th>\n",
       "      <th>date</th>\n",
       "    </tr>\n",
       "  </thead>\n",
       "  <tbody>\n",
       "    <tr>\n",
       "      <th>220320</th>\n",
       "      <td>1/1/2009</td>\n",
       "      <td>00:00:00</td>\n",
       "      <td>0.0</td>\n",
       "      <td>2009-01-01 00:00:00</td>\n",
       "      <td>0</td>\n",
       "      <td>2009-01-01</td>\n",
       "    </tr>\n",
       "    <tr>\n",
       "      <th>220321</th>\n",
       "      <td>1/1/2009</td>\n",
       "      <td>00:01:00</td>\n",
       "      <td>0.0</td>\n",
       "      <td>2009-01-01 00:01:00</td>\n",
       "      <td>0</td>\n",
       "      <td>2009-01-01</td>\n",
       "    </tr>\n",
       "    <tr>\n",
       "      <th>220322</th>\n",
       "      <td>1/1/2009</td>\n",
       "      <td>00:02:00</td>\n",
       "      <td>0.0</td>\n",
       "      <td>2009-01-01 00:02:00</td>\n",
       "      <td>0</td>\n",
       "      <td>2009-01-01</td>\n",
       "    </tr>\n",
       "    <tr>\n",
       "      <th>220323</th>\n",
       "      <td>1/1/2009</td>\n",
       "      <td>00:03:00</td>\n",
       "      <td>0.0</td>\n",
       "      <td>2009-01-01 00:03:00</td>\n",
       "      <td>0</td>\n",
       "      <td>2009-01-01</td>\n",
       "    </tr>\n",
       "    <tr>\n",
       "      <th>220324</th>\n",
       "      <td>1/1/2009</td>\n",
       "      <td>00:04:00</td>\n",
       "      <td>0.0</td>\n",
       "      <td>2009-01-01 00:04:00</td>\n",
       "      <td>0</td>\n",
       "      <td>2009-01-01</td>\n",
       "    </tr>\n",
       "  </tbody>\n",
       "</table>\n",
       "</div>"
      ],
      "text/plain": [
       "            Date      Time  Kitchen_power_use           timestamp  hour  \\\n",
       "220320  1/1/2009  00:00:00                0.0 2009-01-01 00:00:00     0   \n",
       "220321  1/1/2009  00:01:00                0.0 2009-01-01 00:01:00     0   \n",
       "220322  1/1/2009  00:02:00                0.0 2009-01-01 00:02:00     0   \n",
       "220323  1/1/2009  00:03:00                0.0 2009-01-01 00:03:00     0   \n",
       "220324  1/1/2009  00:04:00                0.0 2009-01-01 00:04:00     0   \n",
       "\n",
       "              date  \n",
       "220320  2009-01-01  \n",
       "220321  2009-01-01  \n",
       "220322  2009-01-01  \n",
       "220323  2009-01-01  \n",
       "220324  2009-01-01  "
      ]
     },
     "execution_count": 27,
     "metadata": {},
     "output_type": "execute_result"
    }
   ],
   "source": [
    "kitchen_elec['hour'] = \\\n",
    "    kitchen_elec['timestamp'].dt.hour\n",
    "#\n",
    "# create a date column in the standard format\n",
    "#\n",
    "kitchen_elec['date'] = \\\n",
    "    kitchen_elec['timestamp'].dt.date\n",
    "kitchen_elec.head()"
   ]
  },
  {
   "cell_type": "code",
   "execution_count": 28,
   "id": "a3192db6",
   "metadata": {},
   "outputs": [
    {
     "data": {
      "text/html": [
       "<div>\n",
       "<style scoped>\n",
       "    .dataframe tbody tr th:only-of-type {\n",
       "        vertical-align: middle;\n",
       "    }\n",
       "\n",
       "    .dataframe tbody tr th {\n",
       "        vertical-align: top;\n",
       "    }\n",
       "\n",
       "    .dataframe thead th {\n",
       "        text-align: right;\n",
       "    }\n",
       "</style>\n",
       "<table border=\"1\" class=\"dataframe\">\n",
       "  <thead>\n",
       "    <tr style=\"text-align: right;\">\n",
       "      <th></th>\n",
       "      <th>date</th>\n",
       "      <th>hour</th>\n",
       "      <th>Kitchen_power_use</th>\n",
       "    </tr>\n",
       "  </thead>\n",
       "  <tbody>\n",
       "    <tr>\n",
       "      <th>20</th>\n",
       "      <td>2009-01-01</td>\n",
       "      <td>20</td>\n",
       "      <td>0.0</td>\n",
       "    </tr>\n",
       "    <tr>\n",
       "      <th>21</th>\n",
       "      <td>2009-01-01</td>\n",
       "      <td>21</td>\n",
       "      <td>0.0</td>\n",
       "    </tr>\n",
       "    <tr>\n",
       "      <th>22</th>\n",
       "      <td>2009-01-01</td>\n",
       "      <td>22</td>\n",
       "      <td>0.0</td>\n",
       "    </tr>\n",
       "    <tr>\n",
       "      <th>23</th>\n",
       "      <td>2009-01-01</td>\n",
       "      <td>23</td>\n",
       "      <td>0.0</td>\n",
       "    </tr>\n",
       "    <tr>\n",
       "      <th>24</th>\n",
       "      <td>2009-01-02</td>\n",
       "      <td>0</td>\n",
       "      <td>0.0</td>\n",
       "    </tr>\n",
       "    <tr>\n",
       "      <th>25</th>\n",
       "      <td>2009-01-02</td>\n",
       "      <td>1</td>\n",
       "      <td>0.0</td>\n",
       "    </tr>\n",
       "    <tr>\n",
       "      <th>26</th>\n",
       "      <td>2009-01-02</td>\n",
       "      <td>2</td>\n",
       "      <td>0.0</td>\n",
       "    </tr>\n",
       "    <tr>\n",
       "      <th>27</th>\n",
       "      <td>2009-01-02</td>\n",
       "      <td>3</td>\n",
       "      <td>0.0</td>\n",
       "    </tr>\n",
       "  </tbody>\n",
       "</table>\n",
       "</div>"
      ],
      "text/plain": [
       "          date  hour  Kitchen_power_use\n",
       "20  2009-01-01    20                0.0\n",
       "21  2009-01-01    21                0.0\n",
       "22  2009-01-01    22                0.0\n",
       "23  2009-01-01    23                0.0\n",
       "24  2009-01-02     0                0.0\n",
       "25  2009-01-02     1                0.0\n",
       "26  2009-01-02     2                0.0\n",
       "27  2009-01-02     3                0.0"
      ]
     },
     "execution_count": 28,
     "metadata": {},
     "output_type": "execute_result"
    }
   ],
   "source": [
    "kitchen_elec = \\\n",
    "    (kitchen_elec[['date',\n",
    "                  'hour', \n",
    "                  'Kitchen_power_use']].\n",
    "                  groupby(['date',\n",
    "                           'hour']).sum())\n",
    "kitchen_elec.reset_index(inplace = True)\n",
    "kitchen_elec.iloc[20:28, :]"
   ]
  },
  {
   "cell_type": "code",
   "execution_count": 29,
   "id": "1f4f3af1",
   "metadata": {},
   "outputs": [
    {
     "name": "stderr",
     "output_type": "stream",
     "text": [
      "C:\\Users\\Jordan\\AppData\\Local\\Temp\\ipykernel_19224\\1364260641.py:1: FutureWarning: Comparison of Timestamp with datetime.date is deprecated in order to match the standard library behavior. In a future version these will be considered non-comparable. Use 'ts == pd.Timestamp(date)' or 'ts.date() == date' instead.\n",
      "  (kitchen_elec.loc[((kitchen_elec['date'] >=\n",
      "C:\\Users\\Jordan\\AppData\\Local\\Temp\\ipykernel_19224\\1364260641.py:3: FutureWarning: Comparison of Timestamp with datetime.date is deprecated in order to match the standard library behavior. In a future version these will be considered non-comparable. Use 'ts == pd.Timestamp(date)' or 'ts.date() == date' instead.\n",
      "  (kitchen_elec['date'] <\n"
     ]
    },
    {
     "data": {
      "text/plain": [
       "<Axes: xlabel='hour'>"
      ]
     },
     "execution_count": 29,
     "metadata": {},
     "output_type": "execute_result"
    },
    {
     "data": {
      "image/png": "[encoded data removed]",
      "text/plain": [
       "<Figure size 640x480 with 1 Axes>"
      ]
     },
     "metadata": {},
     "output_type": "display_data"
    }
   ],
   "source": [
    "(kitchen_elec.loc[((kitchen_elec['date'] >= \n",
    "                    pd.to_datetime('2009-01-01')) & \n",
    "                   (kitchen_elec['date'] <\n",
    "                    pd.to_datetime('2009-02-01'))),\n",
    "                  ['hour',\n",
    "                   'Kitchen_power_use']].\n",
    "                   groupby('hour').mean().plot(kind = \n",
    "                                               'bar'))"
   ]
  },
  {
   "cell_type": "code",
   "execution_count": 30,
   "id": "d6c3ed94",
   "metadata": {},
   "outputs": [
    {
     "data": {
      "text/plain": [
       "<Axes: xlabel='hour'>"
      ]
     },
     "execution_count": 30,
     "metadata": {},
     "output_type": "execute_result"
    },
    {
     "data": {
      "image/png": "[encoded data removed]",
      "text/plain": [
       "<Figure size 640x480 with 1 Axes>"
      ]
     },
     "metadata": {},
     "output_type": "display_data"
    }
   ],
   "source": [
    "(kitchen_elec.loc[:,\n",
    "                  ['hour', \n",
    "                   'Kitchen_power_use']].\n",
    "                    groupby('hour').mean().plot(kind = \n",
    "                                                'bar'))"
   ]
  },
  {
   "cell_type": "code",
   "execution_count": null,
   "id": "36d6863c",
   "metadata": {},
   "outputs": [],
   "source": []
  }
 ],
 "metadata": {
  "kernelspec": {
   "display_name": "Python 3 (ipykernel)",
   "language": "python",
   "name": "python3"
  },
  "language_info": {
   "codemirror_mode": {
    "name": "ipython",
    "version": 3
   },
   "file_extension": ".py",
   "mimetype": "text/x-python",
   "name": "python",
   "nbconvert_exporter": "python",
   "pygments_lexer": "ipython3",
   "version": "3.10.9"
  }
 },
 "nbformat": 4,
 "nbformat_minor": 5
}
